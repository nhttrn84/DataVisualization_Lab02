{
 "cells": [
  {
   "cell_type": "markdown",
   "metadata": {},
   "source": [
    "<div style=\"text-align: center; font-size: 25px;\">\n",
    "Trực quan hóa dữ liệu - CQ2021/21 <br>\n",
    "Nhóm 02<br>\n",
    "TLab 02: Working with Time-series data <br>\n",
    "Chủ đề: Visualize about the climate in Indonesia\n",
    "</div>"
   ]
  },
  {
   "cell_type": "code",
   "execution_count": 13,
   "metadata": {},
   "outputs": [
    {
     "data": {
      "text/html": [
       "<div>\n",
       "<style scoped>\n",
       "    .dataframe tbody tr th:only-of-type {\n",
       "        vertical-align: middle;\n",
       "    }\n",
       "\n",
       "    .dataframe tbody tr th {\n",
       "        vertical-align: top;\n",
       "    }\n",
       "\n",
       "    .dataframe thead th {\n",
       "        text-align: right;\n",
       "    }\n",
       "</style>\n",
       "<table border=\"1\" class=\"dataframe\">\n",
       "  <thead>\n",
       "    <tr style=\"text-align: right;\">\n",
       "      <th></th>\n",
       "      <th>date</th>\n",
       "      <th>Tn</th>\n",
       "      <th>Tx</th>\n",
       "      <th>Tavg</th>\n",
       "      <th>RH_avg</th>\n",
       "      <th>RR</th>\n",
       "      <th>ss</th>\n",
       "      <th>ff_x</th>\n",
       "      <th>ddd_x</th>\n",
       "      <th>ff_avg</th>\n",
       "      <th>...</th>\n",
       "      <th>station_name</th>\n",
       "      <th>region_name</th>\n",
       "      <th>latitude</th>\n",
       "      <th>longitude</th>\n",
       "      <th>region_id</th>\n",
       "      <th>province_id</th>\n",
       "      <th>province_name</th>\n",
       "      <th>year</th>\n",
       "      <th>month</th>\n",
       "      <th>day</th>\n",
       "    </tr>\n",
       "  </thead>\n",
       "  <tbody>\n",
       "    <tr>\n",
       "      <th>0</th>\n",
       "      <td>2010-01-01</td>\n",
       "      <td>21.4</td>\n",
       "      <td>30.2</td>\n",
       "      <td>27.1</td>\n",
       "      <td>82.0</td>\n",
       "      <td>9.0</td>\n",
       "      <td>0.5</td>\n",
       "      <td>7.0</td>\n",
       "      <td>90.0</td>\n",
       "      <td>5.0</td>\n",
       "      <td>...</td>\n",
       "      <td>Stasiun Meteorologi Maimun Saleh</td>\n",
       "      <td>Kota Sabang</td>\n",
       "      <td>5.87655</td>\n",
       "      <td>95.33785</td>\n",
       "      <td>20</td>\n",
       "      <td>1</td>\n",
       "      <td>Nanggroe Aceh Darussalam</td>\n",
       "      <td>2010</td>\n",
       "      <td>1</td>\n",
       "      <td>1</td>\n",
       "    </tr>\n",
       "    <tr>\n",
       "      <th>1</th>\n",
       "      <td>2010-01-02</td>\n",
       "      <td>21.0</td>\n",
       "      <td>29.6</td>\n",
       "      <td>25.7</td>\n",
       "      <td>95.0</td>\n",
       "      <td>24.0</td>\n",
       "      <td>0.2</td>\n",
       "      <td>6.0</td>\n",
       "      <td>90.0</td>\n",
       "      <td>4.0</td>\n",
       "      <td>...</td>\n",
       "      <td>Stasiun Meteorologi Maimun Saleh</td>\n",
       "      <td>Kota Sabang</td>\n",
       "      <td>5.87655</td>\n",
       "      <td>95.33785</td>\n",
       "      <td>20</td>\n",
       "      <td>1</td>\n",
       "      <td>Nanggroe Aceh Darussalam</td>\n",
       "      <td>2010</td>\n",
       "      <td>1</td>\n",
       "      <td>2</td>\n",
       "    </tr>\n",
       "    <tr>\n",
       "      <th>2</th>\n",
       "      <td>2010-01-03</td>\n",
       "      <td>20.2</td>\n",
       "      <td>26.8</td>\n",
       "      <td>24.5</td>\n",
       "      <td>98.0</td>\n",
       "      <td>63.0</td>\n",
       "      <td>0.0</td>\n",
       "      <td>5.0</td>\n",
       "      <td>90.0</td>\n",
       "      <td>4.0</td>\n",
       "      <td>...</td>\n",
       "      <td>Stasiun Meteorologi Maimun Saleh</td>\n",
       "      <td>Kota Sabang</td>\n",
       "      <td>5.87655</td>\n",
       "      <td>95.33785</td>\n",
       "      <td>20</td>\n",
       "      <td>1</td>\n",
       "      <td>Nanggroe Aceh Darussalam</td>\n",
       "      <td>2010</td>\n",
       "      <td>1</td>\n",
       "      <td>3</td>\n",
       "    </tr>\n",
       "    <tr>\n",
       "      <th>3</th>\n",
       "      <td>2010-01-04</td>\n",
       "      <td>21.0</td>\n",
       "      <td>29.2</td>\n",
       "      <td>25.8</td>\n",
       "      <td>90.0</td>\n",
       "      <td>0.0</td>\n",
       "      <td>0.1</td>\n",
       "      <td>4.0</td>\n",
       "      <td>225.0</td>\n",
       "      <td>3.0</td>\n",
       "      <td>...</td>\n",
       "      <td>Stasiun Meteorologi Maimun Saleh</td>\n",
       "      <td>Kota Sabang</td>\n",
       "      <td>5.87655</td>\n",
       "      <td>95.33785</td>\n",
       "      <td>20</td>\n",
       "      <td>1</td>\n",
       "      <td>Nanggroe Aceh Darussalam</td>\n",
       "      <td>2010</td>\n",
       "      <td>1</td>\n",
       "      <td>4</td>\n",
       "    </tr>\n",
       "    <tr>\n",
       "      <th>4</th>\n",
       "      <td>2010-01-05</td>\n",
       "      <td>21.2</td>\n",
       "      <td>30.0</td>\n",
       "      <td>26.7</td>\n",
       "      <td>90.0</td>\n",
       "      <td>2.0</td>\n",
       "      <td>0.4</td>\n",
       "      <td>NaN</td>\n",
       "      <td>NaN</td>\n",
       "      <td>NaN</td>\n",
       "      <td>...</td>\n",
       "      <td>Stasiun Meteorologi Maimun Saleh</td>\n",
       "      <td>Kota Sabang</td>\n",
       "      <td>5.87655</td>\n",
       "      <td>95.33785</td>\n",
       "      <td>20</td>\n",
       "      <td>1</td>\n",
       "      <td>Nanggroe Aceh Darussalam</td>\n",
       "      <td>2010</td>\n",
       "      <td>1</td>\n",
       "      <td>5</td>\n",
       "    </tr>\n",
       "  </tbody>\n",
       "</table>\n",
       "<p>5 rows × 22 columns</p>\n",
       "</div>"
      ],
      "text/plain": [
       "        date    Tn    Tx  Tavg  RH_avg    RR   ss  ff_x  ddd_x  ff_avg  ...  \\\n",
       "0 2010-01-01  21.4  30.2  27.1    82.0   9.0  0.5   7.0   90.0     5.0  ...   \n",
       "1 2010-01-02  21.0  29.6  25.7    95.0  24.0  0.2   6.0   90.0     4.0  ...   \n",
       "2 2010-01-03  20.2  26.8  24.5    98.0  63.0  0.0   5.0   90.0     4.0  ...   \n",
       "3 2010-01-04  21.0  29.2  25.8    90.0   0.0  0.1   4.0  225.0     3.0  ...   \n",
       "4 2010-01-05  21.2  30.0  26.7    90.0   2.0  0.4   NaN    NaN     NaN  ...   \n",
       "\n",
       "                       station_name  region_name latitude longitude  \\\n",
       "0  Stasiun Meteorologi Maimun Saleh  Kota Sabang  5.87655  95.33785   \n",
       "1  Stasiun Meteorologi Maimun Saleh  Kota Sabang  5.87655  95.33785   \n",
       "2  Stasiun Meteorologi Maimun Saleh  Kota Sabang  5.87655  95.33785   \n",
       "3  Stasiun Meteorologi Maimun Saleh  Kota Sabang  5.87655  95.33785   \n",
       "4  Stasiun Meteorologi Maimun Saleh  Kota Sabang  5.87655  95.33785   \n",
       "\n",
       "   region_id  province_id             province_name  year month  day  \n",
       "0         20            1  Nanggroe Aceh Darussalam  2010     1    1  \n",
       "1         20            1  Nanggroe Aceh Darussalam  2010     1    2  \n",
       "2         20            1  Nanggroe Aceh Darussalam  2010     1    3  \n",
       "3         20            1  Nanggroe Aceh Darussalam  2010     1    4  \n",
       "4         20            1  Nanggroe Aceh Darussalam  2010     1    5  \n",
       "\n",
       "[5 rows x 22 columns]"
      ]
     },
     "execution_count": 13,
     "metadata": {},
     "output_type": "execute_result"
    }
   ],
   "source": [
    "import pandas as pd\n",
    "import numpy as np\n",
    "import matplotlib.pyplot as plt\n",
    "import seaborn as sns\n",
    "import plotly.graph_objects as go\n",
    "import plotly.express as px\n",
    "import warnings\n",
    "warnings.filterwarnings('ignore')\n",
    "\n",
    "df_climate = pd.read_csv('climate_data.csv')\n",
    "df_province = pd.read_csv('province_detail.csv')\n",
    "df_station = pd.read_csv('station_detail.csv')\n",
    "\n",
    "# merge 3 csv\n",
    "df_merg = df_station.merge(df_province, on=[\"province_id\"], how='left')\n",
    "df_merg_last = df_climate.merge(df_merg, on=[\"station_id\"], how='left')\n",
    "df = df_merg_last.copy()\n",
    "df['date'] = pd.to_datetime(df['date'], format='%d-%m-%Y')\n",
    "df['year'] = df['date'].dt.year\n",
    "df['month'] = df['date'].dt.month\n",
    "df['day'] = df['date'].dt.day\n",
    "df.head()"
   ]
  },
  {
   "cell_type": "markdown",
   "metadata": {},
   "source": [
    "# A. Thu thập dữ liệu"
   ]
  },
  {
   "cell_type": "markdown",
   "metadata": {},
   "source": [
    "* Ngữ cảnh:\n",
    "    ...\n",
    "\n",
    "* Bộ dữ liệu:\n",
    "    ...\n",
    "\n",
    "* License:\n",
    "    ...\n",
    "\n",
    "* Cách thức thu thập dữ liệu:\n",
    "    ..."
   ]
  },
  {
   "cell_type": "markdown",
   "metadata": {},
   "source": [
    "# B. Khám phá dữ liệu"
   ]
  },
  {
   "cell_type": "markdown",
   "metadata": {},
   "source": [
    "# C. Khám phá mối quan hệ trong dữ liệu"
   ]
  },
  {
   "cell_type": "markdown",
   "metadata": {},
   "source": [
    "### Temperature"
   ]
  },
  {
   "cell_type": "markdown",
   "metadata": {},
   "source": [
    "#### Line plot"
   ]
  },
  {
   "cell_type": "markdown",
   "metadata": {},
   "source": [
    "Lý do chọn biểu đồ: \n",
    "* Biểu đồ đường giúp dễ dàng thấy được xu hướng thay đổi nhiệt độ theo thời gian của từng tỉnh (nhiệt độ tỉnh được tính bằng trung bình nhiệt độ của các trạm thuộc tỉnh), đồng thời có thể so sánh nhiệt độ giữa các tính qua từng năm. Biểu đồ được biểu diễn theo năm để dễ dàng hơn cho người xem. \n",
    "\n",
    "Lý do chọn màu: \n",
    "* Giúp người đọc dễ phân biệt đường nhiệt độ của các tỉnh hơn"
   ]
  },
  {
   "cell_type": "markdown",
   "metadata": {},
   "source": [
    "Kỹ thuật áp dụng:\n",
    "* Hover data: Khi người dùng di chuột qua một điểm dữ liệu, một tooltip sẽ xuất hiện hiển thị tất cả giá trị ở điểm dữ liệu đó.\n",
    "* Zoom và cuộn: Người dùng có thể sử dụng công cụ zoom và cuộn để phóng to hoặc thu nhỏ các phần cụ thể của biểu đồ.\n",
    "* Selection: người dùng có thể nhấp vào từng province_name ở list bên phải để ẩn hoặc hiện đường nhiệt độ của tỉnh đó trên biểu đồ. Có thể ẩn hoặc hiện tất cả tỉnh bằng nút bên trái"
   ]
  },
  {
   "cell_type": "code",
   "execution_count": 17,
   "metadata": {},
   "outputs": [
    {
     "data": {
      "application/vnd.plotly.v1+json": {
       "config": {
        "plotlyServerURL": "https://plot.ly"
       },
       "data": [
        {
         "hovertemplate": "province_name=Bali<br>year=%{x}<br>Tavg=%{y}<extra></extra>",
         "legendgroup": "Bali",
         "line": {
          "color": "#636efa",
          "dash": "solid"
         },
         "marker": {
          "symbol": "circle"
         },
         "mode": "lines",
         "name": "Bali",
         "orientation": "v",
         "showlegend": true,
         "type": "scatter",
         "x": [
          2010,
          2011,
          2012,
          2013,
          2014,
          2015,
          2016,
          2017,
          2018,
          2019,
          2020
         ],
         "xaxis": "x",
         "y": [
          27.43054794520548,
          26.66349315068493,
          26.836280765724705,
          27.56533795493934,
          27.254685890834192,
          27.246703296703295,
          28.050969529085872,
          27.27906336088154,
          27.290934065934064,
          27.281690140845072,
          27.750434782608696
         ],
         "yaxis": "y"
        },
        {
         "hovertemplate": "province_name=Banten<br>year=%{x}<br>Tavg=%{y}<extra></extra>",
         "legendgroup": "Banten",
         "line": {
          "color": "#EF553B",
          "dash": "solid"
         },
         "marker": {
          "symbol": "circle"
         },
         "mode": "lines",
         "name": "Banten",
         "orientation": "v",
         "showlegend": true,
         "type": "scatter",
         "x": [
          2010,
          2011,
          2012,
          2013,
          2014,
          2015,
          2016,
          2017,
          2018,
          2019,
          2020
         ],
         "xaxis": "x",
         "y": [
          27.337232289950578,
          27.29259462424575,
          27.400711938663743,
          27.309378733572284,
          27.37188373392957,
          27.69590562109646,
          27.667604752970608,
          27.60285874439462,
          27.57881122729774,
          27.829049972542556,
          27.71771700356718
         ],
         "yaxis": "y"
        },
        {
         "hovertemplate": "province_name=Bengkulu<br>year=%{x}<br>Tavg=%{y}<extra></extra>",
         "legendgroup": "Bengkulu",
         "line": {
          "color": "#00cc96",
          "dash": "solid"
         },
         "marker": {
          "symbol": "circle"
         },
         "mode": "lines",
         "name": "Bengkulu",
         "orientation": "v",
         "showlegend": true,
         "type": "scatter",
         "x": [
          2010,
          2011,
          2012,
          2013,
          2014,
          2015,
          2016,
          2017,
          2018,
          2019,
          2020
         ],
         "xaxis": "x",
         "y": [
          25.813698630136987,
          25.638995433789955,
          25.740200546946216,
          25.664873765093304,
          25.866298342541437,
          25.916703786191537,
          26.154968094804012,
          25.89772511848341,
          25.886197440585008,
          25.953979871912168,
          26.178767772511847
         ],
         "yaxis": "y"
        },
        {
         "hovertemplate": "province_name=DI Yogyakarta<br>year=%{x}<br>Tavg=%{y}<extra></extra>",
         "legendgroup": "DI Yogyakarta",
         "line": {
          "color": "#ab63fa",
          "dash": "solid"
         },
         "marker": {
          "symbol": "circle"
         },
         "mode": "lines",
         "name": "DI Yogyakarta",
         "orientation": "v",
         "showlegend": true,
         "type": "scatter",
         "x": [
          2010,
          2011,
          2012,
          2013,
          2014,
          2015,
          2016,
          2017,
          2018,
          2019,
          2020
         ],
         "xaxis": "x",
         "y": [
          26.453314917127074,
          26.230740740740742,
          26.903225806451612,
          26.29534246575342,
          26.26895604395604,
          26.114720812182743,
          26.727322404371588,
          26.06121593291405,
          26.012328767123286,
          26.048555708390644,
          26.49646539027982
         ],
         "yaxis": "y"
        },
        {
         "hovertemplate": "province_name=DKI Jakarta<br>year=%{x}<br>Tavg=%{y}<extra></extra>",
         "legendgroup": "DKI Jakarta",
         "line": {
          "color": "#FFA15A",
          "dash": "solid"
         },
         "marker": {
          "symbol": "circle"
         },
         "mode": "lines",
         "name": "DKI Jakarta",
         "orientation": "v",
         "showlegend": true,
         "type": "scatter",
         "x": [
          2010,
          2011,
          2012,
          2013,
          2014,
          2015,
          2016,
          2017,
          2018,
          2019,
          2020
         ],
         "xaxis": "x",
         "y": [
          28.085205479452053,
          28.163561643835614,
          28.264936247723135,
          28.13798701298701,
          28.116345270890726,
          28.20488038277512,
          28.400192307692308,
          28.298800738007383,
          28.337169811320756,
          28.82071330589849,
          28.73960113960114
         ],
         "yaxis": "y"
        },
        {
         "hovertemplate": "province_name=Gorontalo<br>year=%{x}<br>Tavg=%{y}<extra></extra>",
         "legendgroup": "Gorontalo",
         "line": {
          "color": "#19d3f3",
          "dash": "solid"
         },
         "marker": {
          "symbol": "circle"
         },
         "mode": "lines",
         "name": "Gorontalo",
         "orientation": "v",
         "showlegend": true,
         "type": "scatter",
         "x": [
          2010,
          2011,
          2012,
          2013,
          2014,
          2015,
          2016,
          2017,
          2018,
          2019,
          2020
         ],
         "xaxis": "x",
         "y": [
          27.240273972602743,
          27.086301369863012,
          27.021584699453552,
          27.6,
          27.095104895104896,
          27.416017316017317,
          27.76338028169014,
          27.42387543252595,
          27.467241379310344,
          27.632746478873237,
          27.46179775280899
         ],
         "yaxis": "y"
        },
        {
         "hovertemplate": "province_name=Jambi<br>year=%{x}<br>Tavg=%{y}<extra></extra>",
         "legendgroup": "Jambi",
         "line": {
          "color": "#FF6692",
          "dash": "solid"
         },
         "marker": {
          "symbol": "circle"
         },
         "mode": "lines",
         "name": "Jambi",
         "orientation": "v",
         "showlegend": true,
         "type": "scatter",
         "x": [
          2010,
          2011,
          2012,
          2013,
          2014,
          2015,
          2016,
          2017,
          2018,
          2019,
          2020
         ],
         "xaxis": "x",
         "y": [
          25.445211786372006,
          25.24577205882353,
          25.359799453053785,
          25.44228949858089,
          25.383761467889908,
          26.112727272727273,
          26.123861386138614,
          25.577064220183487,
          25.565491651205935,
          25.745570776255708,
          25.924755381604694
         ],
         "yaxis": "y"
        },
        {
         "hovertemplate": "province_name=Jawa Barat<br>year=%{x}<br>Tavg=%{y}<extra></extra>",
         "legendgroup": "Jawa Barat",
         "line": {
          "color": "#B6E880",
          "dash": "solid"
         },
         "marker": {
          "symbol": "circle"
         },
         "mode": "lines",
         "name": "Jawa Barat",
         "orientation": "v",
         "showlegend": true,
         "type": "scatter",
         "x": [
          2010,
          2011,
          2012,
          2013,
          2014,
          2015,
          2016,
          2017,
          2018,
          2019,
          2020
         ],
         "xaxis": "x",
         "y": [
          24.503561643835614,
          24.48725154215216,
          24.576418318523583,
          24.347928513403737,
          24.68092566619916,
          25.100327332242223,
          25.086887332908976,
          25.29744318181818,
          25.341848739495795,
          25.555172413793102,
          25.424306784660764
         ],
         "yaxis": "y"
        },
        {
         "hovertemplate": "province_name=Jawa Tengah<br>year=%{x}<br>Tavg=%{y}<extra></extra>",
         "legendgroup": "Jawa Tengah",
         "line": {
          "color": "#FF97FF",
          "dash": "solid"
         },
         "marker": {
          "symbol": "circle"
         },
         "mode": "lines",
         "name": "Jawa Tengah",
         "orientation": "v",
         "showlegend": true,
         "type": "scatter",
         "x": [
          2010,
          2011,
          2012,
          2013,
          2014,
          2015,
          2016,
          2017,
          2018,
          2019,
          2020
         ],
         "xaxis": "x",
         "y": [
          27.9252602739726,
          27.502796052631577,
          27.712301804264627,
          27.836135812449477,
          27.99492888064317,
          27.95074626865672,
          28.331611804767313,
          27.856396713615027,
          27.914441887226698,
          28.03166089965398,
          28.18879159369527
         ],
         "yaxis": "y"
        },
        {
         "hovertemplate": "province_name=Jawa Timur<br>year=%{x}<br>Tavg=%{y}<extra></extra>",
         "legendgroup": "Jawa Timur",
         "line": {
          "color": "#FECB52",
          "dash": "solid"
         },
         "marker": {
          "symbol": "circle"
         },
         "mode": "lines",
         "name": "Jawa Timur",
         "orientation": "v",
         "showlegend": true,
         "type": "scatter",
         "x": [
          2010,
          2011,
          2012,
          2013,
          2014,
          2015,
          2016,
          2017,
          2018,
          2019,
          2020
         ],
         "xaxis": "x",
         "y": [
          26.49986301369863,
          26.062575342465752,
          26.278794520547947,
          27.010732381391065,
          26.801346389228886,
          26.58605174353206,
          27.05609824957651,
          26.594253192670738,
          26.72782012195122,
          26.798271109997494,
          26.919594594594596
         ],
         "yaxis": "y"
        },
        {
         "hovertemplate": "province_name=Kalimantan Barat<br>year=%{x}<br>Tavg=%{y}<extra></extra>",
         "legendgroup": "Kalimantan Barat",
         "line": {
          "color": "#636efa",
          "dash": "solid"
         },
         "marker": {
          "symbol": "circle"
         },
         "mode": "lines",
         "name": "Kalimantan Barat",
         "orientation": "v",
         "showlegend": true,
         "type": "scatter",
         "x": [
          2010,
          2011,
          2012,
          2013,
          2014,
          2015,
          2016,
          2017,
          2018,
          2019,
          2020
         ],
         "xaxis": "x",
         "y": [
          27.12027397260274,
          27.01928082191781,
          27.149333333333335,
          27.269093851132684,
          27.21449758991472,
          27.129523809523807,
          27.520648761771884,
          27.237079455977092,
          27.12434482758621,
          27.276862068965514,
          27.22684589170769
         ],
         "yaxis": "y"
        },
        {
         "hovertemplate": "province_name=Kalimantan Selatan<br>year=%{x}<br>Tavg=%{y}<extra></extra>",
         "legendgroup": "Kalimantan Selatan",
         "line": {
          "color": "#EF553B",
          "dash": "solid"
         },
         "marker": {
          "symbol": "circle"
         },
         "mode": "lines",
         "name": "Kalimantan Selatan",
         "orientation": "v",
         "showlegend": true,
         "type": "scatter",
         "x": [
          2010,
          2011,
          2012,
          2013,
          2014,
          2015,
          2016,
          2017,
          2018,
          2019,
          2020
         ],
         "xaxis": "x",
         "y": [
          26.840730593607304,
          26.74341864716636,
          26.810796915167096,
          26.815068493150687,
          26.97735655737705,
          27.355747126436782,
          27.5631724137931,
          26.893626062322948,
          26.82751091703057,
          27.28179190751445,
          27.48272921108742
         ],
         "yaxis": "y"
        },
        {
         "hovertemplate": "province_name=Kalimantan Tengah<br>year=%{x}<br>Tavg=%{y}<extra></extra>",
         "legendgroup": "Kalimantan Tengah",
         "line": {
          "color": "#00cc96",
          "dash": "solid"
         },
         "marker": {
          "symbol": "circle"
         },
         "mode": "lines",
         "name": "Kalimantan Tengah",
         "orientation": "v",
         "showlegend": true,
         "type": "scatter",
         "x": [
          2010,
          2011,
          2012,
          2013,
          2014,
          2015,
          2016,
          2017,
          2018,
          2019,
          2020
         ],
         "xaxis": "x",
         "y": [
          27.058630136986302,
          26.687616438356166,
          26.79103825136612,
          26.976073619631904,
          27.147872340425533,
          27.153894080996885,
          27.410094287298946,
          27.027262569832406,
          27.07655172413793,
          27.23971264367816,
          27.322306791569087
         ],
         "yaxis": "y"
        },
        {
         "hovertemplate": "province_name=Kalimantan Timur<br>year=%{x}<br>Tavg=%{y}<extra></extra>",
         "legendgroup": "Kalimantan Timur",
         "line": {
          "color": "#ab63fa",
          "dash": "solid"
         },
         "marker": {
          "symbol": "circle"
         },
         "mode": "lines",
         "name": "Kalimantan Timur",
         "orientation": "v",
         "showlegend": true,
         "type": "scatter",
         "x": [
          2010,
          2011,
          2012,
          2013,
          2014,
          2015,
          2016,
          2017,
          2018,
          2019,
          2020
         ],
         "xaxis": "x",
         "y": [
          27.31269406392694,
          27.02330895795247,
          27.166392694063926,
          27.209079601990048,
          27.44904458598726,
          27.565439093484418,
          27.834415584415584,
          27.44377358490566,
          27.41257142857143,
          27.612571428571428,
          27.49939819458375
         ],
         "yaxis": "y"
        },
        {
         "hovertemplate": "province_name=Kalimantan Utara<br>year=%{x}<br>Tavg=%{y}<extra></extra>",
         "legendgroup": "Kalimantan Utara",
         "line": {
          "color": "#FFA15A",
          "dash": "solid"
         },
         "marker": {
          "symbol": "circle"
         },
         "mode": "lines",
         "name": "Kalimantan Utara",
         "orientation": "v",
         "showlegend": true,
         "type": "scatter",
         "x": [
          2010,
          2011,
          2012,
          2013,
          2014,
          2015,
          2016,
          2017,
          2018,
          2019,
          2020
         ],
         "xaxis": "x",
         "y": [
          26.377260273972606,
          25.576508226691043,
          25.59783950617284,
          27.24041769041769,
          27.51706896551724,
          27.190292028413573,
          27.046506550218343,
          26.588260135135137,
          26.368896051571312,
          26.674404304381245,
          26.546436781609195
         ],
         "yaxis": "y"
        },
        {
         "hovertemplate": "province_name=Kep. Bangka Belitung<br>year=%{x}<br>Tavg=%{y}<extra></extra>",
         "legendgroup": "Kep. Bangka Belitung",
         "line": {
          "color": "#19d3f3",
          "dash": "solid"
         },
         "marker": {
          "symbol": "circle"
         },
         "mode": "lines",
         "name": "Kep. Bangka Belitung",
         "orientation": "v",
         "showlegend": true,
         "type": "scatter",
         "x": [
          2010,
          2011,
          2012,
          2013,
          2014,
          2015,
          2016,
          2017,
          2018,
          2019,
          2020
         ],
         "xaxis": "x",
         "y": [
          26.636529680365296,
          26.59552511415525,
          26.68825136612022,
          26.71190223166844,
          27.004545454545454,
          27.007552083333334,
          27.052642487046633,
          26.8387027027027,
          26.80419532324622,
          27.057899090157154,
          26.93510941960038
         ],
         "yaxis": "y"
        },
        {
         "hovertemplate": "province_name=Kep. Riau<br>year=%{x}<br>Tavg=%{y}<extra></extra>",
         "legendgroup": "Kep. Riau",
         "line": {
          "color": "#FF6692",
          "dash": "solid"
         },
         "marker": {
          "symbol": "circle"
         },
         "mode": "lines",
         "name": "Kep. Riau",
         "orientation": "v",
         "showlegend": true,
         "type": "scatter",
         "x": [
          2010,
          2011,
          2012,
          2013,
          2014,
          2015,
          2016,
          2017,
          2018,
          2019,
          2020
         ],
         "xaxis": "x",
         "y": [
          27.47180073126143,
          27.008584474885847,
          27.392544459644323,
          27.47013698630137,
          27.440346766635425,
          27.776770833333334,
          27.856448508180943,
          27.352722196370404,
          27.309245630174793,
          27.78473877176902,
          27.648050072219547
         ],
         "yaxis": "y"
        },
        {
         "hovertemplate": "province_name=Lampung<br>year=%{x}<br>Tavg=%{y}<extra></extra>",
         "legendgroup": "Lampung",
         "line": {
          "color": "#B6E880",
          "dash": "solid"
         },
         "marker": {
          "symbol": "circle"
         },
         "mode": "lines",
         "name": "Lampung",
         "orientation": "v",
         "showlegend": true,
         "type": "scatter",
         "x": [
          2010,
          2011,
          2012,
          2013,
          2014,
          2015,
          2016,
          2017,
          2018,
          2019,
          2020
         ],
         "xaxis": "x",
         "y": [
          27.148587181254307,
          27.18382453735435,
          27.263679890560876,
          27.111186696900983,
          27.221048182586642,
          27.37170582226762,
          27.521494009866103,
          27.195461538461537,
          27.017160278745646,
          27.60446153846154,
          27.334809160305344
         ],
         "yaxis": "y"
        },
        {
         "hovertemplate": "province_name=Maluku<br>year=%{x}<br>Tavg=%{y}<extra></extra>",
         "legendgroup": "Maluku",
         "line": {
          "color": "#FF97FF",
          "dash": "solid"
         },
         "marker": {
          "symbol": "circle"
         },
         "mode": "lines",
         "name": "Maluku",
         "orientation": "v",
         "showlegend": true,
         "type": "scatter",
         "x": [
          2010,
          2011,
          2012,
          2013,
          2014,
          2015,
          2016,
          2017,
          2018,
          2019,
          2020
         ],
         "xaxis": "x",
         "y": [
          27.380782548476454,
          26.767290367290364,
          26.945859872611464,
          27.237989417989418,
          27.1,
          26.883801955990222,
          27.504760105780132,
          27.085475094181664,
          27.07150513622153,
          26.982997542997545,
          27.373076923076923
         ],
         "yaxis": "y"
        },
        {
         "hovertemplate": "province_name=Maluku Utara<br>year=%{x}<br>Tavg=%{y}<extra></extra>",
         "legendgroup": "Maluku Utara",
         "line": {
          "color": "#FECB52",
          "dash": "solid"
         },
         "marker": {
          "symbol": "circle"
         },
         "mode": "lines",
         "name": "Maluku Utara",
         "orientation": "v",
         "showlegend": true,
         "type": "scatter",
         "x": [
          2010,
          2011,
          2012,
          2013,
          2014,
          2015,
          2016,
          2017,
          2018,
          2019,
          2020
         ],
         "xaxis": "x",
         "y": [
          26.93527397260274,
          26.59732510288066,
          26.657552973342447,
          26.839344262295082,
          26.735410176531673,
          26.90430107526882,
          27.194323557237468,
          26.772470978441127,
          27.019272445820434,
          27.02050078247261,
          27.13860759493671
         ],
         "yaxis": "y"
        },
        {
         "hovertemplate": "province_name=Nanggroe Aceh Darussalam<br>year=%{x}<br>Tavg=%{y}<extra></extra>",
         "legendgroup": "Nanggroe Aceh Darussalam",
         "line": {
          "color": "#636efa",
          "dash": "solid"
         },
         "marker": {
          "symbol": "circle"
         },
         "mode": "lines",
         "name": "Nanggroe Aceh Darussalam",
         "orientation": "v",
         "showlegend": true,
         "type": "scatter",
         "x": [
          2010,
          2011,
          2012,
          2013,
          2014,
          2015,
          2016,
          2017,
          2018,
          2019,
          2020
         ],
         "xaxis": "x",
         "y": [
          26.118920187793428,
          25.82433789954338,
          26.738663745892662,
          25.967641681901277,
          25.877490234375,
          26.854425837320573,
          27.256485587583146,
          26.80613569321534,
          26.890389150943395,
          27.119933554817276,
          27.007285546415982
         ],
         "yaxis": "y"
        },
        {
         "hovertemplate": "province_name=Nusa Tenggara Barat<br>year=%{x}<br>Tavg=%{y}<extra></extra>",
         "legendgroup": "Nusa Tenggara Barat",
         "line": {
          "color": "#EF553B",
          "dash": "solid"
         },
         "marker": {
          "symbol": "circle"
         },
         "mode": "lines",
         "name": "Nusa Tenggara Barat",
         "orientation": "v",
         "showlegend": true,
         "type": "scatter",
         "x": [
          2010,
          2011,
          2012,
          2013,
          2014,
          2015,
          2016,
          2017,
          2018,
          2019,
          2020
         ],
         "xaxis": "x",
         "y": [
          27.175273972602742,
          26.40246744345442,
          26.34799446749654,
          27.063424657534245,
          26.85303454715219,
          26.7875,
          27.39244357212954,
          26.88218009478673,
          27.085485391140434,
          26.951054078826765,
          27.393441064638786
         ],
         "yaxis": "y"
        },
        {
         "hovertemplate": "province_name=Nusa Tenggara Timur<br>year=%{x}<br>Tavg=%{y}<extra></extra>",
         "legendgroup": "Nusa Tenggara Timur",
         "line": {
          "color": "#00cc96",
          "dash": "solid"
         },
         "marker": {
          "symbol": "circle"
         },
         "mode": "lines",
         "name": "Nusa Tenggara Timur",
         "orientation": "v",
         "showlegend": true,
         "type": "scatter",
         "x": [
          2010,
          2011,
          2012,
          2013,
          2014,
          2015,
          2016,
          2017,
          2018,
          2019,
          2020
         ],
         "xaxis": "x",
         "y": [
          26.972590529247913,
          26.22779773418071,
          26.271894409937886,
          25.62949479940565,
          26.533029772329247,
          26.62352772191899,
          27.432843983880254,
          26.883221476510066,
          26.881454650825845,
          26.712820512820514,
          27.22598820058997
         ],
         "yaxis": "y"
        },
        {
         "hovertemplate": "province_name=Papua<br>year=%{x}<br>Tavg=%{y}<extra></extra>",
         "legendgroup": "Papua",
         "line": {
          "color": "#ab63fa",
          "dash": "solid"
         },
         "marker": {
          "symbol": "circle"
         },
         "mode": "lines",
         "name": "Papua",
         "orientation": "v",
         "showlegend": true,
         "type": "scatter",
         "x": [
          2010,
          2011,
          2012,
          2013,
          2014,
          2015,
          2016,
          2017,
          2018,
          2019,
          2020
         ],
         "xaxis": "x",
         "y": [
          25.964079670329667,
          25.630199353448276,
          26.04177545691906,
          25.560462427745662,
          25.713001723713372,
          26.156468273487455,
          26.274590163934427,
          25.9614489003881,
          25.8735506110937,
          26.760771369006253,
          26.010535405872194
         ],
         "yaxis": "y"
        },
        {
         "hovertemplate": "province_name=Papua Barat<br>year=%{x}<br>Tavg=%{y}<extra></extra>",
         "legendgroup": "Papua Barat",
         "line": {
          "color": "#FFA15A",
          "dash": "solid"
         },
         "marker": {
          "symbol": "circle"
         },
         "mode": "lines",
         "name": "Papua Barat",
         "orientation": "v",
         "showlegend": true,
         "type": "scatter",
         "x": [
          2010,
          2011,
          2012,
          2013,
          2014,
          2015,
          2016,
          2017,
          2018,
          2019,
          2020
         ],
         "xaxis": "x",
         "y": [
          26.855169811320753,
          26.44230503795721,
          26.557133058984913,
          26.39126984126984,
          26.878565471226022,
          27.25594202898551,
          27.225544174135724,
          27.011559633027524,
          26.91131516587678,
          26.962336182336184,
          27.214303405572753
         ],
         "yaxis": "y"
        },
        {
         "hovertemplate": "province_name=Riau<br>year=%{x}<br>Tavg=%{y}<extra></extra>",
         "legendgroup": "Riau",
         "line": {
          "color": "#19d3f3",
          "dash": "solid"
         },
         "marker": {
          "symbol": "circle"
         },
         "mode": "lines",
         "name": "Riau",
         "orientation": "v",
         "showlegend": true,
         "type": "scatter",
         "x": [
          2010,
          2011,
          2012,
          2013,
          2014,
          2015,
          2016,
          2017,
          2018,
          2019,
          2020
         ],
         "xaxis": "x",
         "y": [
          27.48904109589041,
          26.923045267489712,
          27.121448087431695,
          27.284503631961257,
          27.118847352024922,
          27.241291291291294,
          27.53842975206612,
          27.078016085790885,
          26.979690522243715,
          27.17675925925926,
          27.182884615384616
         ],
         "yaxis": "y"
        },
        {
         "hovertemplate": "province_name=Sulawesi Barat<br>year=%{x}<br>Tavg=%{y}<extra></extra>",
         "legendgroup": "Sulawesi Barat",
         "line": {
          "color": "#FF6692",
          "dash": "solid"
         },
         "marker": {
          "symbol": "circle"
         },
         "mode": "lines",
         "name": "Sulawesi Barat",
         "orientation": "v",
         "showlegend": true,
         "type": "scatter",
         "x": [
          2010,
          2011,
          2012,
          2013,
          2014,
          2015,
          2016,
          2017,
          2018,
          2019,
          2020
         ],
         "xaxis": "x",
         "y": [
          27.710684931506847,
          27.52821917808219,
          27.951470588235296,
          null,
          27.50754716981132,
          28.147058823529413,
          28.1023178807947,
          27.75430711610487,
          27.725490196078432,
          27.915151515151518,
          27.95375939849624
         ],
         "yaxis": "y"
        },
        {
         "hovertemplate": "province_name=Sulawesi Selatan<br>year=%{x}<br>Tavg=%{y}<extra></extra>",
         "legendgroup": "Sulawesi Selatan",
         "line": {
          "color": "#B6E880",
          "dash": "solid"
         },
         "marker": {
          "symbol": "circle"
         },
         "mode": "lines",
         "name": "Sulawesi Selatan",
         "orientation": "v",
         "showlegend": true,
         "type": "scatter",
         "x": [
          2010,
          2011,
          2012,
          2013,
          2014,
          2015,
          2016,
          2017,
          2018,
          2019,
          2020
         ],
         "xaxis": "x",
         "y": [
          26.344,
          26.039089912280705,
          26.13499179879716,
          26.96,
          27.12925170068027,
          26.482537764350454,
          26.838425103611602,
          26.341527446300717,
          26.37405063291139,
          26.556985507246377,
          26.571972098922004
         ],
         "yaxis": "y"
        },
        {
         "hovertemplate": "province_name=Sulawesi Tengah<br>year=%{x}<br>Tavg=%{y}<extra></extra>",
         "legendgroup": "Sulawesi Tengah",
         "line": {
          "color": "#FF97FF",
          "dash": "solid"
         },
         "marker": {
          "symbol": "circle"
         },
         "mode": "lines",
         "name": "Sulawesi Tengah",
         "orientation": "v",
         "showlegend": true,
         "type": "scatter",
         "x": [
          2010,
          2011,
          2012,
          2013,
          2014,
          2015,
          2016,
          2017,
          2018,
          2019,
          2020
         ],
         "xaxis": "x",
         "y": [
          27.52373113854595,
          27.283287671232877,
          27.396409472880062,
          27.698433420365536,
          27.397396449704143,
          27.823794212218647,
          27.922988505747128,
          27.22966781214204,
          27.578320935175345,
          27.683948756593818,
          27.607758620689655
         ],
         "yaxis": "y"
        },
        {
         "hovertemplate": "province_name=Sulawesi Tenggara<br>year=%{x}<br>Tavg=%{y}<extra></extra>",
         "legendgroup": "Sulawesi Tenggara",
         "line": {
          "color": "#FECB52",
          "dash": "solid"
         },
         "marker": {
          "symbol": "circle"
         },
         "mode": "lines",
         "name": "Sulawesi Tenggara",
         "orientation": "v",
         "showlegend": true,
         "type": "scatter",
         "x": [
          2010,
          2011,
          2012,
          2013,
          2014,
          2015,
          2016,
          2017,
          2018,
          2019,
          2020
         ],
         "xaxis": "x",
         "y": [
          27.328767123287673,
          27.291598173515982,
          27.338706654170572,
          27.830827067669173,
          27.454171180931745,
          27.72168674698795,
          28.04285714285714,
          27.52072451558551,
          27.434890510948907,
          27.293460690668628,
          27.47267080745342
         ],
         "yaxis": "y"
        },
        {
         "hovertemplate": "province_name=Sulawesi Utara<br>year=%{x}<br>Tavg=%{y}<extra></extra>",
         "legendgroup": "Sulawesi Utara",
         "line": {
          "color": "#636efa",
          "dash": "solid"
         },
         "marker": {
          "symbol": "circle"
         },
         "mode": "lines",
         "name": "Sulawesi Utara",
         "orientation": "v",
         "showlegend": true,
         "type": "scatter",
         "x": [
          2010,
          2011,
          2012,
          2013,
          2014,
          2015,
          2016,
          2017,
          2018,
          2019,
          2020
         ],
         "xaxis": "x",
         "y": [
          26.384692737430168,
          26.33137710633353,
          26.38533941814033,
          27.677077363896846,
          26.5349104859335,
          26.859464285714285,
          27.081671348314607,
          27.244785847299816,
          26.787693222354342,
          26.641593949970915,
          26.6562874251497
         ],
         "yaxis": "y"
        },
        {
         "hovertemplate": "province_name=Sumatera Barat<br>year=%{x}<br>Tavg=%{y}<extra></extra>",
         "legendgroup": "Sumatera Barat",
         "line": {
          "color": "#EF553B",
          "dash": "solid"
         },
         "marker": {
          "symbol": "circle"
         },
         "mode": "lines",
         "name": "Sumatera Barat",
         "orientation": "v",
         "showlegend": true,
         "type": "scatter",
         "x": [
          2010,
          2011,
          2012,
          2013,
          2014,
          2015,
          2016,
          2017,
          2018,
          2019,
          2020
         ],
         "xaxis": "x",
         "y": [
          25.71405071967101,
          25.19970631424376,
          25.335625,
          26.818809523809524,
          26.627926960257785,
          26.60510067114094,
          26.58865671641791,
          26.444072657743785,
          26.33986988847584,
          26.391412742382272,
          26.568067978533094
         ],
         "yaxis": "y"
        },
        {
         "hovertemplate": "province_name=Sumatera Selatan<br>year=%{x}<br>Tavg=%{y}<extra></extra>",
         "legendgroup": "Sumatera Selatan",
         "line": {
          "color": "#00cc96",
          "dash": "solid"
         },
         "marker": {
          "symbol": "circle"
         },
         "mode": "lines",
         "name": "Sumatera Selatan",
         "orientation": "v",
         "showlegend": true,
         "type": "scatter",
         "x": [
          2010,
          2011,
          2012,
          2013,
          2014,
          2015,
          2016,
          2017,
          2018,
          2019,
          2020
         ],
         "xaxis": "x",
         "y": [
          27.22890410958904,
          27.166986301369864,
          27.246174863387978,
          26.64808219178082,
          27.434657534246575,
          27.576868327402135,
          27.689026063100137,
          27.436708860759495,
          27.366208791208788,
          27.71793103448276,
          27.509503546099292
         ],
         "yaxis": "y"
        },
        {
         "hovertemplate": "province_name=Sumatera Utara<br>year=%{x}<br>Tavg=%{y}<extra></extra>",
         "legendgroup": "Sumatera Utara",
         "line": {
          "color": "#ab63fa",
          "dash": "solid"
         },
         "marker": {
          "symbol": "circle"
         },
         "mode": "lines",
         "name": "Sumatera Utara",
         "orientation": "v",
         "showlegend": true,
         "type": "scatter",
         "x": [
          2010,
          2011,
          2012,
          2013,
          2014,
          2015,
          2016,
          2017,
          2018,
          2019,
          2020
         ],
         "xaxis": "x",
         "y": [
          27.038869863013698,
          26.676909900650905,
          26.764645390070925,
          26.881371753246754,
          26.79582235604065,
          26.888039128501553,
          27.24472865537504,
          26.837431318681322,
          26.789591205771213,
          27.07711835334477,
          27.025775121404557
         ],
         "yaxis": "y"
        }
       ],
       "layout": {
        "legend": {
         "title": {
          "text": "province_name"
         },
         "tracegroupgap": 0
        },
        "margin": {
         "t": 60
        },
        "template": {
         "data": {
          "bar": [
           {
            "error_x": {
             "color": "#2a3f5f"
            },
            "error_y": {
             "color": "#2a3f5f"
            },
            "marker": {
             "line": {
              "color": "#E5ECF6",
              "width": 0.5
             },
             "pattern": {
              "fillmode": "overlay",
              "size": 10,
              "solidity": 0.2
             }
            },
            "type": "bar"
           }
          ],
          "barpolar": [
           {
            "marker": {
             "line": {
              "color": "#E5ECF6",
              "width": 0.5
             },
             "pattern": {
              "fillmode": "overlay",
              "size": 10,
              "solidity": 0.2
             }
            },
            "type": "barpolar"
           }
          ],
          "carpet": [
           {
            "aaxis": {
             "endlinecolor": "#2a3f5f",
             "gridcolor": "white",
             "linecolor": "white",
             "minorgridcolor": "white",
             "startlinecolor": "#2a3f5f"
            },
            "baxis": {
             "endlinecolor": "#2a3f5f",
             "gridcolor": "white",
             "linecolor": "white",
             "minorgridcolor": "white",
             "startlinecolor": "#2a3f5f"
            },
            "type": "carpet"
           }
          ],
          "choropleth": [
           {
            "colorbar": {
             "outlinewidth": 0,
             "ticks": ""
            },
            "type": "choropleth"
           }
          ],
          "contour": [
           {
            "colorbar": {
             "outlinewidth": 0,
             "ticks": ""
            },
            "colorscale": [
             [
              0,
              "#0d0887"
             ],
             [
              0.1111111111111111,
              "#46039f"
             ],
             [
              0.2222222222222222,
              "#7201a8"
             ],
             [
              0.3333333333333333,
              "#9c179e"
             ],
             [
              0.4444444444444444,
              "#bd3786"
             ],
             [
              0.5555555555555556,
              "#d8576b"
             ],
             [
              0.6666666666666666,
              "#ed7953"
             ],
             [
              0.7777777777777778,
              "#fb9f3a"
             ],
             [
              0.8888888888888888,
              "#fdca26"
             ],
             [
              1,
              "#f0f921"
             ]
            ],
            "type": "contour"
           }
          ],
          "contourcarpet": [
           {
            "colorbar": {
             "outlinewidth": 0,
             "ticks": ""
            },
            "type": "contourcarpet"
           }
          ],
          "heatmap": [
           {
            "colorbar": {
             "outlinewidth": 0,
             "ticks": ""
            },
            "colorscale": [
             [
              0,
              "#0d0887"
             ],
             [
              0.1111111111111111,
              "#46039f"
             ],
             [
              0.2222222222222222,
              "#7201a8"
             ],
             [
              0.3333333333333333,
              "#9c179e"
             ],
             [
              0.4444444444444444,
              "#bd3786"
             ],
             [
              0.5555555555555556,
              "#d8576b"
             ],
             [
              0.6666666666666666,
              "#ed7953"
             ],
             [
              0.7777777777777778,
              "#fb9f3a"
             ],
             [
              0.8888888888888888,
              "#fdca26"
             ],
             [
              1,
              "#f0f921"
             ]
            ],
            "type": "heatmap"
           }
          ],
          "heatmapgl": [
           {
            "colorbar": {
             "outlinewidth": 0,
             "ticks": ""
            },
            "colorscale": [
             [
              0,
              "#0d0887"
             ],
             [
              0.1111111111111111,
              "#46039f"
             ],
             [
              0.2222222222222222,
              "#7201a8"
             ],
             [
              0.3333333333333333,
              "#9c179e"
             ],
             [
              0.4444444444444444,
              "#bd3786"
             ],
             [
              0.5555555555555556,
              "#d8576b"
             ],
             [
              0.6666666666666666,
              "#ed7953"
             ],
             [
              0.7777777777777778,
              "#fb9f3a"
             ],
             [
              0.8888888888888888,
              "#fdca26"
             ],
             [
              1,
              "#f0f921"
             ]
            ],
            "type": "heatmapgl"
           }
          ],
          "histogram": [
           {
            "marker": {
             "pattern": {
              "fillmode": "overlay",
              "size": 10,
              "solidity": 0.2
             }
            },
            "type": "histogram"
           }
          ],
          "histogram2d": [
           {
            "colorbar": {
             "outlinewidth": 0,
             "ticks": ""
            },
            "colorscale": [
             [
              0,
              "#0d0887"
             ],
             [
              0.1111111111111111,
              "#46039f"
             ],
             [
              0.2222222222222222,
              "#7201a8"
             ],
             [
              0.3333333333333333,
              "#9c179e"
             ],
             [
              0.4444444444444444,
              "#bd3786"
             ],
             [
              0.5555555555555556,
              "#d8576b"
             ],
             [
              0.6666666666666666,
              "#ed7953"
             ],
             [
              0.7777777777777778,
              "#fb9f3a"
             ],
             [
              0.8888888888888888,
              "#fdca26"
             ],
             [
              1,
              "#f0f921"
             ]
            ],
            "type": "histogram2d"
           }
          ],
          "histogram2dcontour": [
           {
            "colorbar": {
             "outlinewidth": 0,
             "ticks": ""
            },
            "colorscale": [
             [
              0,
              "#0d0887"
             ],
             [
              0.1111111111111111,
              "#46039f"
             ],
             [
              0.2222222222222222,
              "#7201a8"
             ],
             [
              0.3333333333333333,
              "#9c179e"
             ],
             [
              0.4444444444444444,
              "#bd3786"
             ],
             [
              0.5555555555555556,
              "#d8576b"
             ],
             [
              0.6666666666666666,
              "#ed7953"
             ],
             [
              0.7777777777777778,
              "#fb9f3a"
             ],
             [
              0.8888888888888888,
              "#fdca26"
             ],
             [
              1,
              "#f0f921"
             ]
            ],
            "type": "histogram2dcontour"
           }
          ],
          "mesh3d": [
           {
            "colorbar": {
             "outlinewidth": 0,
             "ticks": ""
            },
            "type": "mesh3d"
           }
          ],
          "parcoords": [
           {
            "line": {
             "colorbar": {
              "outlinewidth": 0,
              "ticks": ""
             }
            },
            "type": "parcoords"
           }
          ],
          "pie": [
           {
            "automargin": true,
            "type": "pie"
           }
          ],
          "scatter": [
           {
            "fillpattern": {
             "fillmode": "overlay",
             "size": 10,
             "solidity": 0.2
            },
            "type": "scatter"
           }
          ],
          "scatter3d": [
           {
            "line": {
             "colorbar": {
              "outlinewidth": 0,
              "ticks": ""
             }
            },
            "marker": {
             "colorbar": {
              "outlinewidth": 0,
              "ticks": ""
             }
            },
            "type": "scatter3d"
           }
          ],
          "scattercarpet": [
           {
            "marker": {
             "colorbar": {
              "outlinewidth": 0,
              "ticks": ""
             }
            },
            "type": "scattercarpet"
           }
          ],
          "scattergeo": [
           {
            "marker": {
             "colorbar": {
              "outlinewidth": 0,
              "ticks": ""
             }
            },
            "type": "scattergeo"
           }
          ],
          "scattergl": [
           {
            "marker": {
             "colorbar": {
              "outlinewidth": 0,
              "ticks": ""
             }
            },
            "type": "scattergl"
           }
          ],
          "scattermapbox": [
           {
            "marker": {
             "colorbar": {
              "outlinewidth": 0,
              "ticks": ""
             }
            },
            "type": "scattermapbox"
           }
          ],
          "scatterpolar": [
           {
            "marker": {
             "colorbar": {
              "outlinewidth": 0,
              "ticks": ""
             }
            },
            "type": "scatterpolar"
           }
          ],
          "scatterpolargl": [
           {
            "marker": {
             "colorbar": {
              "outlinewidth": 0,
              "ticks": ""
             }
            },
            "type": "scatterpolargl"
           }
          ],
          "scatterternary": [
           {
            "marker": {
             "colorbar": {
              "outlinewidth": 0,
              "ticks": ""
             }
            },
            "type": "scatterternary"
           }
          ],
          "surface": [
           {
            "colorbar": {
             "outlinewidth": 0,
             "ticks": ""
            },
            "colorscale": [
             [
              0,
              "#0d0887"
             ],
             [
              0.1111111111111111,
              "#46039f"
             ],
             [
              0.2222222222222222,
              "#7201a8"
             ],
             [
              0.3333333333333333,
              "#9c179e"
             ],
             [
              0.4444444444444444,
              "#bd3786"
             ],
             [
              0.5555555555555556,
              "#d8576b"
             ],
             [
              0.6666666666666666,
              "#ed7953"
             ],
             [
              0.7777777777777778,
              "#fb9f3a"
             ],
             [
              0.8888888888888888,
              "#fdca26"
             ],
             [
              1,
              "#f0f921"
             ]
            ],
            "type": "surface"
           }
          ],
          "table": [
           {
            "cells": {
             "fill": {
              "color": "#EBF0F8"
             },
             "line": {
              "color": "white"
             }
            },
            "header": {
             "fill": {
              "color": "#C8D4E3"
             },
             "line": {
              "color": "white"
             }
            },
            "type": "table"
           }
          ]
         },
         "layout": {
          "annotationdefaults": {
           "arrowcolor": "#2a3f5f",
           "arrowhead": 0,
           "arrowwidth": 1
          },
          "autotypenumbers": "strict",
          "coloraxis": {
           "colorbar": {
            "outlinewidth": 0,
            "ticks": ""
           }
          },
          "colorscale": {
           "diverging": [
            [
             0,
             "#8e0152"
            ],
            [
             0.1,
             "#c51b7d"
            ],
            [
             0.2,
             "#de77ae"
            ],
            [
             0.3,
             "#f1b6da"
            ],
            [
             0.4,
             "#fde0ef"
            ],
            [
             0.5,
             "#f7f7f7"
            ],
            [
             0.6,
             "#e6f5d0"
            ],
            [
             0.7,
             "#b8e186"
            ],
            [
             0.8,
             "#7fbc41"
            ],
            [
             0.9,
             "#4d9221"
            ],
            [
             1,
             "#276419"
            ]
           ],
           "sequential": [
            [
             0,
             "#0d0887"
            ],
            [
             0.1111111111111111,
             "#46039f"
            ],
            [
             0.2222222222222222,
             "#7201a8"
            ],
            [
             0.3333333333333333,
             "#9c179e"
            ],
            [
             0.4444444444444444,
             "#bd3786"
            ],
            [
             0.5555555555555556,
             "#d8576b"
            ],
            [
             0.6666666666666666,
             "#ed7953"
            ],
            [
             0.7777777777777778,
             "#fb9f3a"
            ],
            [
             0.8888888888888888,
             "#fdca26"
            ],
            [
             1,
             "#f0f921"
            ]
           ],
           "sequentialminus": [
            [
             0,
             "#0d0887"
            ],
            [
             0.1111111111111111,
             "#46039f"
            ],
            [
             0.2222222222222222,
             "#7201a8"
            ],
            [
             0.3333333333333333,
             "#9c179e"
            ],
            [
             0.4444444444444444,
             "#bd3786"
            ],
            [
             0.5555555555555556,
             "#d8576b"
            ],
            [
             0.6666666666666666,
             "#ed7953"
            ],
            [
             0.7777777777777778,
             "#fb9f3a"
            ],
            [
             0.8888888888888888,
             "#fdca26"
            ],
            [
             1,
             "#f0f921"
            ]
           ]
          },
          "colorway": [
           "#636efa",
           "#EF553B",
           "#00cc96",
           "#ab63fa",
           "#FFA15A",
           "#19d3f3",
           "#FF6692",
           "#B6E880",
           "#FF97FF",
           "#FECB52"
          ],
          "font": {
           "color": "#2a3f5f"
          },
          "geo": {
           "bgcolor": "white",
           "lakecolor": "white",
           "landcolor": "#E5ECF6",
           "showlakes": true,
           "showland": true,
           "subunitcolor": "white"
          },
          "hoverlabel": {
           "align": "left"
          },
          "hovermode": "closest",
          "mapbox": {
           "style": "light"
          },
          "paper_bgcolor": "white",
          "plot_bgcolor": "#E5ECF6",
          "polar": {
           "angularaxis": {
            "gridcolor": "white",
            "linecolor": "white",
            "ticks": ""
           },
           "bgcolor": "#E5ECF6",
           "radialaxis": {
            "gridcolor": "white",
            "linecolor": "white",
            "ticks": ""
           }
          },
          "scene": {
           "xaxis": {
            "backgroundcolor": "#E5ECF6",
            "gridcolor": "white",
            "gridwidth": 2,
            "linecolor": "white",
            "showbackground": true,
            "ticks": "",
            "zerolinecolor": "white"
           },
           "yaxis": {
            "backgroundcolor": "#E5ECF6",
            "gridcolor": "white",
            "gridwidth": 2,
            "linecolor": "white",
            "showbackground": true,
            "ticks": "",
            "zerolinecolor": "white"
           },
           "zaxis": {
            "backgroundcolor": "#E5ECF6",
            "gridcolor": "white",
            "gridwidth": 2,
            "linecolor": "white",
            "showbackground": true,
            "ticks": "",
            "zerolinecolor": "white"
           }
          },
          "shapedefaults": {
           "line": {
            "color": "#2a3f5f"
           }
          },
          "ternary": {
           "aaxis": {
            "gridcolor": "white",
            "linecolor": "white",
            "ticks": ""
           },
           "baxis": {
            "gridcolor": "white",
            "linecolor": "white",
            "ticks": ""
           },
           "bgcolor": "#E5ECF6",
           "caxis": {
            "gridcolor": "white",
            "linecolor": "white",
            "ticks": ""
           }
          },
          "title": {
           "x": 0.05
          },
          "xaxis": {
           "automargin": true,
           "gridcolor": "white",
           "linecolor": "white",
           "ticks": "",
           "title": {
            "standoff": 15
           },
           "zerolinecolor": "white",
           "zerolinewidth": 2
          },
          "yaxis": {
           "automargin": true,
           "gridcolor": "white",
           "linecolor": "white",
           "ticks": "",
           "title": {
            "standoff": 15
           },
           "zerolinecolor": "white",
           "zerolinewidth": 2
          }
         }
        },
        "updatemenus": [
         {
          "buttons": [
           {
            "args": [
             {
              "visible": "legendonly"
             }
            ],
            "label": "Ẩn tất cả",
            "method": "update"
           },
           {
            "args": [
             {
              "visible": true
             }
            ],
            "label": "Hiển thị tất cả",
            "method": "update"
           }
          ],
          "direction": "down",
          "showactive": true
         }
        ],
        "xaxis": {
         "anchor": "y",
         "domain": [
          0,
          1
         ],
         "title": {
          "text": "year"
         }
        },
        "yaxis": {
         "anchor": "x",
         "domain": [
          0,
          1
         ],
         "title": {
          "text": "Tavg"
         }
        }
       }
      }
     },
     "metadata": {},
     "output_type": "display_data"
    }
   ],
   "source": [
    "df_temp_year = df.groupby(['year','province_name'],as_index=False)['Tavg'].mean()\n",
    "fig = px.line(df_temp_year, x=\"year\", y=\"Tavg\", color=\"province_name\")\n",
    "fig.update_layout(\n",
    "    updatemenus=[\n",
    "        {\n",
    "            'buttons': [\n",
    "                {\n",
    "                    'args': [{'visible': 'legendonly'}],\n",
    "                    'label': 'Ẩn tất cả',\n",
    "                    'method': 'update'\n",
    "                },\n",
    "                {\n",
    "                    'args': [{'visible': True}],\n",
    "                    'label': 'Hiển thị tất cả',\n",
    "                    'method': 'update'\n",
    "                }\n",
    "            ],\n",
    "            'direction': 'down',\n",
    "            'showactive': True,\n",
    "        }\n",
    "    ]\n",
    ")\n",
    "\n",
    "fig"
   ]
  },
  {
   "cell_type": "markdown",
   "metadata": {},
   "source": [
    "Nhận xét:\n",
    "* Xu hướng nhiệt độ của các tỉnh chia ra nhiều nhóm thể hiện các khu vực có sự tương đồng về điều kiện khí hậu.\n",
    "* Nhiệt độ của Indonesia có xu hướng tăng dần qua các năm."
   ]
  },
  {
   "cell_type": "markdown",
   "metadata": {},
   "source": [
    "Đánh giá sự phù hợp:\n",
    "* Biểu đồ đường giúp bạn dễ dàng quan sát sự thay đổi của nhiệt độ trung bình (Tavg) theo từng năm (year) của các tỉnh (province_name) khác nhau.\n",
    "* Vạch kẻ theo màu (hue) giúp phân biệt nhiệt độ trung bình của từng tỉnh theo năm.\n",
    "* Tuy nhiên, số lượng tỉnh quá nhiều, biểu đồ đường trở nên rối mắt hơn so với các biểu đồ khác như biểu đồ vùng (area plot)"
   ]
  },
  {
   "cell_type": "markdown",
   "metadata": {},
   "source": [
    "#### Heatmap"
   ]
  },
  {
   "cell_type": "markdown",
   "metadata": {},
   "source": [
    "Lý do chọn biểu đồ: \n",
    "* Heatmap cho phép biểu diễn một lượng lớn dữ liệu trên một diện tích hạn chế. \n",
    "* Màu sắc trong Heatmap giúp người dùng dễ dàng so sánh các giá trị nhiệt độ giữa các tháng hoặc năm, cũng như nhận diện xu hướng, mẫu hình hoặc bất thường trong dữ liệu. \n",
    "* Các giá trị nhiệt độ cao và thấp sẽ được thể hiện bằng các màu sắc đặc trưng, giúp người dùng nhanh chóng nhận ra sự khác biệt.\n",
    "\n",
    "Lý do chọn màu sắc: \n",
    "* Màu coolwarm cung cấp sự tương phản cao giữa các mức nhiệt độ khác nhau, giúp dễ dàng nhận biết các khu vực nóng và lạnh trên biểu đồ.\n",
    "* Các sắc thái xanh lam và đỏ biểu diễn các giá trị thấp và cao, dễ phân biệt cho người bị mù màu.\n",
    "* Việc sử dụng dải màu liên tục từ xanh lam đến đỏ giúp tạo ra hiệu ứng chuyển màu mượt mà, giúp người xem dễ dàng theo dõi sự thay đổi nhiệt độ theo thời gian.\n",
    "* Màu coolwarm thu hút sự chú ý của người xem đến các vùng cực đoan, nơi có sự biến động nhiệt độ lớn nhất.\n",
    "* Việc sử dụng màu sắc tươi sáng và rực rỡ có thể giúp thu hút sự chú ý của người xem và khiến họ quan tâm nhiều hơn đến dữ liệu được hiển thị."
   ]
  },
  {
   "cell_type": "code",
   "execution_count": 22,
   "metadata": {},
   "outputs": [
    {
     "data": {
      "text/plain": [
       "Text(0.5, 1.0, 'Heatmap of Temperatures in Indonesia')"
      ]
     },
     "execution_count": 22,
     "metadata": {},
     "output_type": "execute_result"
    },
    {
     "data": {
      "image/png": "[encoded data removed]",
      "text/plain": [
       "<Figure size 640x480 with 2 Axes>"
      ]
     },
     "metadata": {},
     "output_type": "display_data"
    }
   ],
   "source": [
    "df_temp_month = df.groupby(['year', 'month'],as_index=False)['Tavg'].mean()\n",
    "matrix = df_temp_month.pivot(index='year', columns='month', values='Tavg')\n",
    "sns.heatmap(matrix, annot=True, cmap='coolwarm', cbar=True)\n",
    "plt.title('Heatmap of Temperatures in Indonesia')"
   ]
  },
  {
   "cell_type": "markdown",
   "metadata": {},
   "source": [
    "Sau khi sử dụng màu sắc, ta rút ra được nhận xét:\n",
    "\n",
    "* Chu kỳ\n",
    "    * Tháng 1-2: nhiệt độ bình thường ở mức 26-27 độ\n",
    "    * Tháng 3-6, 9-12: nhiệt độ cao nhất trong năm\n",
    "    * Tháng 7-8: nhiệt độ mát nhất năm\n",
    "* Nhiệt độ ngày càng cao hơn qua các năm.\n",
    "* Xuất hiện một số tháng có nhiệt độ cao bất thường.\n",
    "* Năm 2016 là năm nóng nhất được ghi nhận trong data."
   ]
  },
  {
   "cell_type": "markdown",
   "metadata": {},
   "source": [
    "Đánh giá sự phù hợp:\n",
    "* Sử dụng heatmap trong trường hợp này là phù hợp để tổng quan về sự phân bố nhiệt độ theo tháng qua các năm. \n",
    "* Màu sắc thể hiện sự khác biệt của giá trị trung bình nhiệt độ, giúp người xem nhanh chóng nhận ra tháng nào nóng nhất và tháng nào lạnh nhất trong năm.\n",
    "* Tuy nhiên, khả năng so sánh chi tiết giữa các giá trị nhiệt độ theo từng tháng trong những năm khác nhau trên heatmap có thể khó khăn hơn so với các biểu đồ khác như đường (line) hoặc cột (bar)."
   ]
  },
  {
   "cell_type": "markdown",
   "metadata": {},
   "source": [
    "### Humid"
   ]
  },
  {
   "cell_type": "code",
   "execution_count": null,
   "metadata": {},
   "outputs": [],
   "source": []
  },
  {
   "cell_type": "markdown",
   "metadata": {},
   "source": [
    "### Rain"
   ]
  },
  {
   "cell_type": "code",
   "execution_count": null,
   "metadata": {},
   "outputs": [],
   "source": []
  },
  {
   "cell_type": "markdown",
   "metadata": {},
   "source": [
    "### Sunshine"
   ]
  },
  {
   "cell_type": "code",
   "execution_count": null,
   "metadata": {},
   "outputs": [],
   "source": []
  },
  {
   "cell_type": "markdown",
   "metadata": {},
   "source": [
    "### Windspeed"
   ]
  },
  {
   "cell_type": "code",
   "execution_count": null,
   "metadata": {},
   "outputs": [],
   "source": []
  }
 ],
 "metadata": {
  "kernelspec": {
   "display_name": "Python 3",
   "language": "python",
   "name": "python3"
  },
  "language_info": {
   "codemirror_mode": {
    "name": "ipython",
    "version": 3
   },
   "file_extension": ".py",
   "mimetype": "text/x-python",
   "name": "python",
   "nbconvert_exporter": "python",
   "pygments_lexer": "ipython3",
   "version": "3.12.2"
  }
 },
 "nbformat": 4,
 "nbformat_minor": 2
}
