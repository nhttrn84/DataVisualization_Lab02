{
 "cells": [
  {
   "cell_type": "markdown",
   "metadata": {},
   "source": [
    "<div style=\"text-align: center; font-size: 25px;\">\n",
    "Trực quan hóa dữ liệu - CQ2021/21 <br>\n",
    "Nhóm 02<br>\n",
    "TLab 02: Working with Time-series data <br>\n",
    "Chủ đề: Visualize about the climate in Indonesia\n",
    "</div>"
   ]
  },
  {
   "cell_type": "code",
   "execution_count": 1,
   "metadata": {},
   "outputs": [
    {
     "data": {
      "text/html": [
       "<div>\n",
       "<style scoped>\n",
       "    .dataframe tbody tr th:only-of-type {\n",
       "        vertical-align: middle;\n",
       "    }\n",
       "\n",
       "    .dataframe tbody tr th {\n",
       "        vertical-align: top;\n",
       "    }\n",
       "\n",
       "    .dataframe thead th {\n",
       "        text-align: right;\n",
       "    }\n",
       "</style>\n",
       "<table border=\"1\" class=\"dataframe\">\n",
       "  <thead>\n",
       "    <tr style=\"text-align: right;\">\n",
       "      <th></th>\n",
       "      <th>date</th>\n",
       "      <th>Tn</th>\n",
       "      <th>Tx</th>\n",
       "      <th>Tavg</th>\n",
       "      <th>RH_avg</th>\n",
       "      <th>RR</th>\n",
       "      <th>ss</th>\n",
       "      <th>ff_x</th>\n",
       "      <th>ddd_x</th>\n",
       "      <th>ff_avg</th>\n",
       "      <th>ddd_car</th>\n",
       "      <th>station_id</th>\n",
       "      <th>station_name</th>\n",
       "      <th>region_name</th>\n",
       "      <th>latitude</th>\n",
       "      <th>longitude</th>\n",
       "      <th>region_id</th>\n",
       "      <th>province_id</th>\n",
       "      <th>province_name</th>\n",
       "    </tr>\n",
       "  </thead>\n",
       "  <tbody>\n",
       "    <tr>\n",
       "      <th>0</th>\n",
       "      <td>01-01-2010</td>\n",
       "      <td>21.4</td>\n",
       "      <td>30.2</td>\n",
       "      <td>27.1</td>\n",
       "      <td>82.0</td>\n",
       "      <td>9.0</td>\n",
       "      <td>0.5</td>\n",
       "      <td>7.0</td>\n",
       "      <td>90.0</td>\n",
       "      <td>5.0</td>\n",
       "      <td>E</td>\n",
       "      <td>96001</td>\n",
       "      <td>Stasiun Meteorologi Maimun Saleh</td>\n",
       "      <td>Kota Sabang</td>\n",
       "      <td>5.87655</td>\n",
       "      <td>95.33785</td>\n",
       "      <td>20</td>\n",
       "      <td>1</td>\n",
       "      <td>Nanggroe Aceh Darussalam</td>\n",
       "    </tr>\n",
       "    <tr>\n",
       "      <th>1</th>\n",
       "      <td>02-01-2010</td>\n",
       "      <td>21.0</td>\n",
       "      <td>29.6</td>\n",
       "      <td>25.7</td>\n",
       "      <td>95.0</td>\n",
       "      <td>24.0</td>\n",
       "      <td>0.2</td>\n",
       "      <td>6.0</td>\n",
       "      <td>90.0</td>\n",
       "      <td>4.0</td>\n",
       "      <td>E</td>\n",
       "      <td>96001</td>\n",
       "      <td>Stasiun Meteorologi Maimun Saleh</td>\n",
       "      <td>Kota Sabang</td>\n",
       "      <td>5.87655</td>\n",
       "      <td>95.33785</td>\n",
       "      <td>20</td>\n",
       "      <td>1</td>\n",
       "      <td>Nanggroe Aceh Darussalam</td>\n",
       "    </tr>\n",
       "    <tr>\n",
       "      <th>2</th>\n",
       "      <td>03-01-2010</td>\n",
       "      <td>20.2</td>\n",
       "      <td>26.8</td>\n",
       "      <td>24.5</td>\n",
       "      <td>98.0</td>\n",
       "      <td>63.0</td>\n",
       "      <td>0.0</td>\n",
       "      <td>5.0</td>\n",
       "      <td>90.0</td>\n",
       "      <td>4.0</td>\n",
       "      <td>E</td>\n",
       "      <td>96001</td>\n",
       "      <td>Stasiun Meteorologi Maimun Saleh</td>\n",
       "      <td>Kota Sabang</td>\n",
       "      <td>5.87655</td>\n",
       "      <td>95.33785</td>\n",
       "      <td>20</td>\n",
       "      <td>1</td>\n",
       "      <td>Nanggroe Aceh Darussalam</td>\n",
       "    </tr>\n",
       "    <tr>\n",
       "      <th>3</th>\n",
       "      <td>04-01-2010</td>\n",
       "      <td>21.0</td>\n",
       "      <td>29.2</td>\n",
       "      <td>25.8</td>\n",
       "      <td>90.0</td>\n",
       "      <td>0.0</td>\n",
       "      <td>0.1</td>\n",
       "      <td>4.0</td>\n",
       "      <td>225.0</td>\n",
       "      <td>3.0</td>\n",
       "      <td>SW</td>\n",
       "      <td>96001</td>\n",
       "      <td>Stasiun Meteorologi Maimun Saleh</td>\n",
       "      <td>Kota Sabang</td>\n",
       "      <td>5.87655</td>\n",
       "      <td>95.33785</td>\n",
       "      <td>20</td>\n",
       "      <td>1</td>\n",
       "      <td>Nanggroe Aceh Darussalam</td>\n",
       "    </tr>\n",
       "    <tr>\n",
       "      <th>4</th>\n",
       "      <td>05-01-2010</td>\n",
       "      <td>21.2</td>\n",
       "      <td>30.0</td>\n",
       "      <td>26.7</td>\n",
       "      <td>90.0</td>\n",
       "      <td>2.0</td>\n",
       "      <td>0.4</td>\n",
       "      <td>NaN</td>\n",
       "      <td>NaN</td>\n",
       "      <td>NaN</td>\n",
       "      <td>NaN</td>\n",
       "      <td>96001</td>\n",
       "      <td>Stasiun Meteorologi Maimun Saleh</td>\n",
       "      <td>Kota Sabang</td>\n",
       "      <td>5.87655</td>\n",
       "      <td>95.33785</td>\n",
       "      <td>20</td>\n",
       "      <td>1</td>\n",
       "      <td>Nanggroe Aceh Darussalam</td>\n",
       "    </tr>\n",
       "  </tbody>\n",
       "</table>\n",
       "</div>"
      ],
      "text/plain": [
       "         date    Tn    Tx  Tavg  RH_avg    RR   ss  ff_x  ddd_x  ff_avg  \\\n",
       "0  01-01-2010  21.4  30.2  27.1    82.0   9.0  0.5   7.0   90.0     5.0   \n",
       "1  02-01-2010  21.0  29.6  25.7    95.0  24.0  0.2   6.0   90.0     4.0   \n",
       "2  03-01-2010  20.2  26.8  24.5    98.0  63.0  0.0   5.0   90.0     4.0   \n",
       "3  04-01-2010  21.0  29.2  25.8    90.0   0.0  0.1   4.0  225.0     3.0   \n",
       "4  05-01-2010  21.2  30.0  26.7    90.0   2.0  0.4   NaN    NaN     NaN   \n",
       "\n",
       "  ddd_car  station_id                      station_name  region_name  \\\n",
       "0      E        96001  Stasiun Meteorologi Maimun Saleh  Kota Sabang   \n",
       "1      E        96001  Stasiun Meteorologi Maimun Saleh  Kota Sabang   \n",
       "2      E        96001  Stasiun Meteorologi Maimun Saleh  Kota Sabang   \n",
       "3      SW       96001  Stasiun Meteorologi Maimun Saleh  Kota Sabang   \n",
       "4     NaN       96001  Stasiun Meteorologi Maimun Saleh  Kota Sabang   \n",
       "\n",
       "   latitude  longitude  region_id  province_id             province_name  \n",
       "0   5.87655   95.33785         20            1  Nanggroe Aceh Darussalam  \n",
       "1   5.87655   95.33785         20            1  Nanggroe Aceh Darussalam  \n",
       "2   5.87655   95.33785         20            1  Nanggroe Aceh Darussalam  \n",
       "3   5.87655   95.33785         20            1  Nanggroe Aceh Darussalam  \n",
       "4   5.87655   95.33785         20            1  Nanggroe Aceh Darussalam  "
      ]
     },
     "execution_count": 1,
     "metadata": {},
     "output_type": "execute_result"
    }
   ],
   "source": [
    "import pandas as pd\n",
    "import numpy as np\n",
    "import matplotlib.pyplot as plt\n",
    "import seaborn as sns\n",
    "import plotly.graph_objects as go\n",
    "\n",
    "df_climate = pd.read_csv('climate_data.csv')\n",
    "df_province = pd.read_csv('province_detail.csv')\n",
    "df_station = pd.read_csv('station_detail.csv')\n",
    "\n",
    "# merge 3 csv\n",
    "df_merg = df_station.merge(df_province, on=[\"province_id\"], how='left')\n",
    "df_merg_last = df_climate.merge(df_merg, on=[\"station_id\"], how='left')\n",
    "df = df_merg_last.copy()\n",
    "df.head()"
   ]
  },
  {
   "cell_type": "markdown",
   "metadata": {},
   "source": [
    "# A. Thu thập dữ liệu"
   ]
  },
  {
   "cell_type": "markdown",
   "metadata": {},
   "source": [
    "* Ngữ cảnh:\n",
    "    ...\n",
    "\n",
    "* Bộ dữ liệu:\n",
    "    ...\n",
    "\n",
    "* License:\n",
    "    ...\n",
    "\n",
    "* Cách thức thu thập dữ liệu:\n",
    "    ..."
   ]
  },
  {
   "cell_type": "markdown",
   "metadata": {},
   "source": [
    "# B. Khám phá dữ liệu"
   ]
  },
  {
   "cell_type": "markdown",
   "metadata": {},
   "source": []
  },
  {
   "cell_type": "markdown",
   "metadata": {},
   "source": [
    "# C. Khám phá mối quan hệ trong dữ liệu"
   ]
  },
  {
   "cell_type": "markdown",
   "metadata": {},
   "source": [
    "### Temperature"
   ]
  },
  {
   "cell_type": "code",
   "execution_count": null,
   "metadata": {},
   "outputs": [],
   "source": []
  },
  {
   "cell_type": "markdown",
   "metadata": {},
   "source": [
    "### Humid"
   ]
  },
  {
   "cell_type": "code",
   "execution_count": null,
   "metadata": {},
   "outputs": [],
   "source": []
  },
  {
   "cell_type": "markdown",
   "metadata": {},
   "source": [
    "### Rain"
   ]
  },
  {
   "cell_type": "code",
   "execution_count": null,
   "metadata": {},
   "outputs": [],
   "source": []
  },
  {
   "cell_type": "markdown",
   "metadata": {},
   "source": [
    "### Sunshine"
   ]
  },
  {
   "cell_type": "code",
   "execution_count": null,
   "metadata": {},
   "outputs": [],
   "source": []
  },
  {
   "cell_type": "markdown",
   "metadata": {},
   "source": [
    "### Windspeed"
   ]
  },
  {
   "cell_type": "code",
   "execution_count": null,
   "metadata": {},
   "outputs": [],
   "source": []
  }
 ],
 "metadata": {
  "kernelspec": {
   "display_name": "Python 3",
   "language": "python",
   "name": "python3"
  },
  "language_info": {
   "codemirror_mode": {
    "name": "ipython",
    "version": 3
   },
   "file_extension": ".py",
   "mimetype": "text/x-python",
   "name": "python",
   "nbconvert_exporter": "python",
   "pygments_lexer": "ipython3",
   "version": "3.12.2"
  }
 },
 "nbformat": 4,
 "nbformat_minor": 2
}
